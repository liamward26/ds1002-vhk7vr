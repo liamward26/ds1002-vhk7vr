{
  "nbformat": 4,
  "nbformat_minor": 0,
  "metadata": {
    "colab": {
      "provenance": [],
      "include_colab_link": true
    },
    "kernelspec": {
      "name": "python3",
      "display_name": "Python 3"
    },
    "language_info": {
      "name": "python"
    }
  },
  "cells": [
    {
      "cell_type": "markdown",
      "metadata": {
        "id": "view-in-github",
        "colab_type": "text"
      },
      "source": [
        "<a href=\"https://colab.research.google.com/github/liamward26/ds1002-vhk7vr/blob/main/week_4.ipynb\" target=\"_parent\"><img src=\"https://colab.research.google.com/assets/colab-badge.svg\" alt=\"Open In Colab\"/></a>"
      ]
    },
    {
      "cell_type": "markdown",
      "source": [
        "# Homework - Week 4\n",
        "\n",
        "Complete the following blocks as specified in the directions. Run each cell to return the desired output. Save your notebook back to your GitHub repository and submit the GitHub URL for your notebook for review."
      ],
      "metadata": {
        "id": "xJ6ZWHKXW4qY"
      }
    },
    {
      "cell_type": "markdown",
      "source": [
        "## 1. Data Types\n",
        "\n",
        "```python\n",
        "s = \"Fox\"\n",
        "x = 17\n",
        "y = \"3\"\n",
        "z = \"false\"\n",
        "```\n",
        "\n",
        "Using the variables above answer these questions:"
      ],
      "metadata": {
        "id": "atxtPF2-XXiW"
      }
    },
    {
      "cell_type": "code",
      "execution_count": 1,
      "metadata": {
        "id": "mdX0VBQgW1-9",
        "colab": {
          "base_uri": "https://localhost:8080/"
        },
        "outputId": "d73a4f90-e05c-4a47-c23a-a5be4dca9579"
      },
      "outputs": [
        {
          "output_type": "execute_result",
          "data": {
            "text/plain": [
              "str"
            ]
          },
          "metadata": {},
          "execution_count": 1
        }
      ],
      "source": [
        "# Write a snippet of code that displays the data type (class) of `s`\n",
        "s = \"Fox\"\n",
        "x = 17\n",
        "y = \"3\"\n",
        "z = \"false\"\n",
        "\n",
        "type(s)"
      ]
    },
    {
      "cell_type": "code",
      "source": [
        "# Write a snippet of code that adds `x` and `y` and displays their sum.\n",
        "print(x + int(y))"
      ],
      "metadata": {
        "id": "OoLP555BbMWi",
        "colab": {
          "base_uri": "https://localhost:8080/"
        },
        "outputId": "1fff1d81-042d-4de3-ad59-a5bb58eb0e44"
      },
      "execution_count": 47,
      "outputs": [
        {
          "output_type": "stream",
          "name": "stdout",
          "text": [
            "20\n"
          ]
        }
      ]
    },
    {
      "cell_type": "code",
      "source": [
        "# How might you transform z into a boolean value, if you had to? Be creative.\n",
        "print(type(bool(z)))"
      ],
      "metadata": {
        "id": "--XDmwVsbMC0",
        "colab": {
          "base_uri": "https://localhost:8080/"
        },
        "outputId": "b9d643ff-f608-4270-d7a3-ddd565fccbbd"
      },
      "execution_count": 8,
      "outputs": [
        {
          "output_type": "stream",
          "name": "stdout",
          "text": [
            "<class 'bool'>\n"
          ]
        }
      ]
    },
    {
      "cell_type": "markdown",
      "source": [
        "- - -"
      ],
      "metadata": {
        "id": "zPvfX62VbK40"
      }
    },
    {
      "cell_type": "markdown",
      "source": [
        "## 2. Lists\n",
        "\n",
        "    mylist = [\"Chicago\",\"New Orleans\", \"Tempe\", \"Denver\", \"Nashville\", \"Albany\"]\n",
        "\n",
        "Using the list above, answer these questions:"
      ],
      "metadata": {
        "id": "j0mCENI3XK2i"
      }
    },
    {
      "cell_type": "code",
      "source": [
        "# Write a snippet of code that prints out \"Tempe\"\n",
        "mylist = [\"Chicago\",\"New Orleans\",\"Tempe\",\"Denver\",\"Nashville\",\"Albany\"]\n",
        "print(mylist[2])"
      ],
      "metadata": {
        "id": "2szfLXZcYC_7",
        "colab": {
          "base_uri": "https://localhost:8080/"
        },
        "outputId": "423b7713-cd97-47f5-893e-37302899b840"
      },
      "execution_count": 9,
      "outputs": [
        {
          "output_type": "stream",
          "name": "stdout",
          "text": [
            "Tempe\n"
          ]
        }
      ]
    },
    {
      "cell_type": "code",
      "source": [
        "# Write a snippet of code that adds \"Atlanta\" to this list and displays the extended list.\n",
        "mylist.append(\"Atlanta\")"
      ],
      "metadata": {
        "id": "P6IeQYoTdMhh"
      },
      "execution_count": 10,
      "outputs": []
    },
    {
      "cell_type": "code",
      "source": [
        "# Write a snippet of code that prints out only \"New Orleans\", \"Tempe\", \"Denver\".\n",
        "print(mylist[1:4])"
      ],
      "metadata": {
        "id": "t43LdDkhdM2N",
        "colab": {
          "base_uri": "https://localhost:8080/"
        },
        "outputId": "5bf36237-8dac-4f3a-bdac-e6ae108525ff"
      },
      "execution_count": 13,
      "outputs": [
        {
          "output_type": "stream",
          "name": "stdout",
          "text": [
            "['New Orleans', 'Tempe', 'Denver']\n"
          ]
        }
      ]
    },
    {
      "cell_type": "markdown",
      "source": [
        "- - -"
      ],
      "metadata": {
        "id": "ATrOT4dYbIVH"
      }
    },
    {
      "cell_type": "markdown",
      "source": [
        "# 3. Dictionaries\n",
        "\n",
        "    mydict = {\"VA\":\"Richmond\", \"NC\":\"Raleigh\", \"NJ\":\"Trenton\", \"PA\":\"Harrisburg\", \"NY\":\"Albany\"}\n",
        "\n",
        "Answer the following questions:"
      ],
      "metadata": {
        "id": "GeXcT_9sYEdx"
      }
    },
    {
      "cell_type": "code",
      "source": [
        "# Write a snippet of code that returns \"Trenton\".\n",
        "mydict = {\"VA\":\"Richmond\",\"NC\":\"Raleigh\",\"NJ\":\"Trenton\",\"PA\":\"Harrisburg\",\"NY\":\"Albany\"}"
      ],
      "metadata": {
        "id": "v3fvvKP4ZUvJ"
      },
      "execution_count": 19,
      "outputs": []
    },
    {
      "cell_type": "code",
      "source": [
        "# Write a snippet of code that adds \"CO\":\"Denver\" to `mydict`.\n",
        "# Remember the built-in .update({'key': 'value'}) method.\n",
        "mydict.update({\"Co\":\"Denver\"})"
      ],
      "metadata": {
        "id": "OEwUkIDNa90b"
      },
      "execution_count": 16,
      "outputs": []
    },
    {
      "cell_type": "code",
      "source": [
        "# Write a snippet of code that returns all the keys in `mydict`\n",
        "print(mydict.keys())"
      ],
      "metadata": {
        "id": "VwoLtOILbF2K",
        "colab": {
          "base_uri": "https://localhost:8080/"
        },
        "outputId": "8db70dd1-864c-4330-e656-ad016bde9bfa"
      },
      "execution_count": 32,
      "outputs": [
        {
          "output_type": "stream",
          "name": "stdout",
          "text": [
            "dict_keys(['VA', 'NC', 'NJ', 'PA', 'NY'])\n"
          ]
        }
      ]
    },
    {
      "cell_type": "markdown",
      "source": [
        "- - -"
      ],
      "metadata": {
        "id": "svpBBTSYa5Dh"
      }
    },
    {
      "cell_type": "markdown",
      "source": [
        "# 4. NumPy Arrays\n",
        "\n",
        "Create an `ndarray` that contains the following values and assign the array to a variable.\n",
        "\n",
        "    2, 3, 5, 7, 11, 13, 17, 19, 23, 29, 31, 37\n",
        "\n",
        "Using that variable, answer the following questions:"
      ],
      "metadata": {
        "id": "DkVtHJBoYW34"
      }
    },
    {
      "cell_type": "code",
      "source": [
        "# Write a snippet of code that prints the data type of the elements in the array.\n",
        "import numpy as np\n",
        "array = np.array([2,3,5,7,11,13,17,19,23,29,31,37])\n",
        "print(type(array[0]))"
      ],
      "metadata": {
        "id": "db5UdbrVZSiJ",
        "colab": {
          "base_uri": "https://localhost:8080/"
        },
        "outputId": "10229aec-bbc3-47a4-81fc-4968f4480feb"
      },
      "execution_count": 54,
      "outputs": [
        {
          "output_type": "stream",
          "name": "stdout",
          "text": [
            "<class 'numpy.int64'>\n"
          ]
        }
      ]
    },
    {
      "cell_type": "code",
      "source": [
        "# Write a snippet of code that displays `11` from the array.\n",
        "print(array[4])"
      ],
      "metadata": {
        "id": "8je9wRG9aoWb",
        "colab": {
          "base_uri": "https://localhost:8080/"
        },
        "outputId": "4319c06c-12a6-4ed0-bf13-2599d6af8975"
      },
      "execution_count": 45,
      "outputs": [
        {
          "output_type": "stream",
          "name": "stdout",
          "text": [
            "11\n"
          ]
        }
      ]
    },
    {
      "cell_type": "code",
      "source": [
        "# Write a snippet of code that multiplies each array element by `7` and displays the new values.\n",
        "print(array * 7)"
      ],
      "metadata": {
        "id": "GBT5RzQfaovb",
        "colab": {
          "base_uri": "https://localhost:8080/"
        },
        "outputId": "8a74ea28-0ad5-4829-b721-ffe907a61f43"
      },
      "execution_count": 46,
      "outputs": [
        {
          "output_type": "stream",
          "name": "stdout",
          "text": [
            "[ 14  21  35  49  77  91 119 133 161 203 217 259]\n"
          ]
        }
      ]
    }
  ]
}
{
  "nbformat": 4,
  "nbformat_minor": 0,
  "metadata": {
    "colab": {
      "provenance": [],
      "include_colab_link": true
    },
    "kernelspec": {
      "name": "ir",
      "display_name": "R"
    },
    "language_info": {
      "name": "R"
    }
  },
  "cells": [
    {
      "cell_type": "markdown",
      "metadata": {
        "id": "view-in-github",
        "colab_type": "text"
      },
      "source": [
        "<a href=\"https://colab.research.google.com/github/liamward26/ds1002-vhk7vr/blob/main/week_15.ipynb\" target=\"_parent\"><img src=\"https://colab.research.google.com/assets/colab-badge.svg\" alt=\"Open In Colab\"/></a>"
      ]
    },
    {
      "cell_type": "markdown",
      "source": [
        "# Homework - Week 15\n",
        "\n",
        "Complete the following blocks as specified in the directions. Run each cell to return the desired output. Save your notebook back to your GitHub repository and submit the GitHub URL to your notebook for review."
      ],
      "metadata": {
        "id": "sZruw3XQogej"
      }
    },
    {
      "cell_type": "markdown",
      "source": [
        "## 1. Create Functions (4 pts)\n",
        "\n",
        "Create two functions in the cells below, according to the prompts given."
      ],
      "metadata": {
        "id": "lkaofBQypx1X"
      }
    },
    {
      "cell_type": "code",
      "source": [
        "# create a function in R that:\n",
        "#   1. takes a single integer as an input parameter\n",
        "#   2. determines whether the integer is even or odd\n",
        "#   3. returns a character statement \"The integer <x> is even\" or \"The integer <x> is odd\" (replace <x> with the actual input provided)\n",
        "#\n",
        "# then execute the function twice using two different input values, displaying even and odd results.\n",
        "\n",
        "even_odd_finder <- function(n){\n",
        "  if(n%%2 == 0){\n",
        "    cat(\"The integer\", n, \"is even.\")\n",
        "  }\n",
        "  if(n%%2 == 1){\n",
        "    cat(\"The integer\", n, \"is odd.\")\n",
        "  }\n",
        "}\n",
        "\n",
        "even_odd_finder(4)\n",
        "\n",
        "even_odd_finder(99)"
      ],
      "metadata": {
        "id": "1fjq5bkEp6Zv",
        "colab": {
          "base_uri": "https://localhost:8080/"
        },
        "outputId": "a8fd070c-7a18-40b0-dd06-aeeb71eff063"
      },
      "execution_count": 63,
      "outputs": [
        {
          "output_type": "stream",
          "name": "stdout",
          "text": [
            "The integer 4 is even.The integer 99 is odd."
          ]
        }
      ]
    },
    {
      "cell_type": "code",
      "source": [
        "# create a function in R that:\n",
        "#   1. takes 4 integer input parameters\n",
        "#   2. returns the mean value of the inputs\n",
        "#   3. has default values for the 4 input parameters, in case they are not provided when the function is called.\n",
        "#\n",
        "# then execute the function twice: once where you provide the input values, and once where you do not.\n",
        "\n",
        "mean <- function(a = 12, b = 5, c = 9, d = 4){\n",
        "  return((a + b + c + d)/4)\n",
        "}\n",
        "\n",
        "\n",
        "mean(33, 75, 1, 15)\n",
        "\n",
        "mean()"
      ],
      "metadata": {
        "id": "f3IFD-T6p6Rd",
        "colab": {
          "base_uri": "https://localhost:8080/",
          "height": 52
        },
        "outputId": "a999f07d-68fa-42c7-be1b-25d6809c5bde"
      },
      "execution_count": 64,
      "outputs": [
        {
          "output_type": "display_data",
          "data": {
            "text/html": [
              "31"
            ],
            "text/markdown": "31",
            "text/latex": "31",
            "text/plain": [
              "[1] 31"
            ]
          },
          "metadata": {}
        },
        {
          "output_type": "display_data",
          "data": {
            "text/html": [
              "7.5"
            ],
            "text/markdown": "7.5",
            "text/latex": "7.5",
            "text/plain": [
              "[1] 7.5"
            ]
          },
          "metadata": {}
        }
      ]
    },
    {
      "cell_type": "markdown",
      "source": [
        "## 2. Plot Data (4 pts)"
      ],
      "metadata": {
        "id": "F6Rx0GIGrpOB"
      }
    },
    {
      "cell_type": "markdown",
      "source": [
        "In the cell below, write the code required to plot from the `msleep` sample data set.\n",
        "\n",
        "1. Display only animals with body weights of 30 or greater.\n",
        "2. Group the animals by `order`.\n",
        "3. Display the mean `sleep_total` for each group in a bar plot."
      ],
      "metadata": {
        "id": "IDLyOjOJsFCX"
      }
    },
    {
      "cell_type": "code",
      "source": [
        "library(tidyverse)\n",
        "library(ggplot2)\n",
        "install.packages(\"gapminder\")\n",
        "library(gapminder)"
      ],
      "metadata": {
        "id": "0D5Ia-BPsoPZ",
        "colab": {
          "base_uri": "https://localhost:8080/"
        },
        "outputId": "a60037b0-18b5-42e9-98e3-eb5c6d146cb5"
      },
      "execution_count": 65,
      "outputs": [
        {
          "output_type": "stream",
          "name": "stderr",
          "text": [
            "Installing package into ‘/usr/local/lib/R/site-library’\n",
            "(as ‘lib’ is unspecified)\n",
            "\n"
          ]
        }
      ]
    },
    {
      "cell_type": "code",
      "source": [
        "msleep %>%\n",
        "  filter(bodywt >= 30) %>%\n",
        "  arrange(order)\n",
        "\n",
        "#what does part 3 mean by \"mean sleep_total by group?\" kinda guessed here\n",
        "\n",
        "ggplot(msleep %>%\n",
        "  filter(bodywt >= 30) %>%\n",
        "  arrange(order), aes(x=sleep_total, fill=order)) + geom_bar()"
      ],
      "metadata": {
        "colab": {
          "base_uri": "https://localhost:8080/",
          "height": 1000
        },
        "id": "QBEAe11Lb8N9",
        "outputId": "5657f0fd-84d4-47d8-a8fc-5e01fbb48bb7"
      },
      "execution_count": 66,
      "outputs": [
        {
          "output_type": "display_data",
          "data": {
            "text/html": [
              "<table class=\"dataframe\">\n",
              "<caption>A tibble: 22 × 11</caption>\n",
              "<thead>\n",
              "\t<tr><th scope=col>name</th><th scope=col>genus</th><th scope=col>vore</th><th scope=col>order</th><th scope=col>conservation</th><th scope=col>sleep_total</th><th scope=col>sleep_rem</th><th scope=col>sleep_cycle</th><th scope=col>awake</th><th scope=col>brainwt</th><th scope=col>bodywt</th></tr>\n",
              "\t<tr><th scope=col>&lt;chr&gt;</th><th scope=col>&lt;chr&gt;</th><th scope=col>&lt;chr&gt;</th><th scope=col>&lt;chr&gt;</th><th scope=col>&lt;chr&gt;</th><th scope=col>&lt;dbl&gt;</th><th scope=col>&lt;dbl&gt;</th><th scope=col>&lt;dbl&gt;</th><th scope=col>&lt;dbl&gt;</th><th scope=col>&lt;dbl&gt;</th><th scope=col>&lt;dbl&gt;</th></tr>\n",
              "</thead>\n",
              "<tbody>\n",
              "\t<tr><td>Cow                 </td><td>Bos          </td><td>herbi  </td><td>Artiodactyla  </td><td>domesticated</td><td> 4.0</td><td>0.7</td><td>0.6666667</td><td>20.00</td><td>0.423</td><td> 600.000</td></tr>\n",
              "\t<tr><td>Goat                </td><td>Capri        </td><td>herbi  </td><td>Artiodactyla  </td><td>lc          </td><td> 5.3</td><td>0.6</td><td>       NA</td><td>18.70</td><td>0.115</td><td>  33.500</td></tr>\n",
              "\t<tr><td>Giraffe             </td><td>Giraffa      </td><td>herbi  </td><td>Artiodactyla  </td><td>cd          </td><td> 1.9</td><td>0.4</td><td>       NA</td><td>22.10</td><td>   NA</td><td> 899.995</td></tr>\n",
              "\t<tr><td>Sheep               </td><td>Ovis         </td><td>herbi  </td><td>Artiodactyla  </td><td>domesticated</td><td> 3.8</td><td>0.6</td><td>       NA</td><td>20.20</td><td>0.175</td><td>  55.500</td></tr>\n",
              "\t<tr><td>Pig                 </td><td>Sus          </td><td>omni   </td><td>Artiodactyla  </td><td>domesticated</td><td> 9.1</td><td>2.4</td><td>0.5000000</td><td>14.90</td><td>0.180</td><td>  86.250</td></tr>\n",
              "\t<tr><td>Cheetah             </td><td>Acinonyx     </td><td>carni  </td><td>Carnivora     </td><td>lc          </td><td>12.1</td><td> NA</td><td>       NA</td><td>11.90</td><td>   NA</td><td>  50.000</td></tr>\n",
              "\t<tr><td>Gray seal           </td><td>Haliochoerus </td><td>carni  </td><td>Carnivora     </td><td>lc          </td><td> 6.2</td><td>1.5</td><td>       NA</td><td>17.80</td><td>0.325</td><td>  85.000</td></tr>\n",
              "\t<tr><td>Tiger               </td><td>Panthera     </td><td>carni  </td><td>Carnivora     </td><td>en          </td><td>15.8</td><td> NA</td><td>       NA</td><td> 8.20</td><td>   NA</td><td> 162.564</td></tr>\n",
              "\t<tr><td>Jaguar              </td><td>Panthera     </td><td>carni  </td><td>Carnivora     </td><td>nt          </td><td>10.4</td><td> NA</td><td>       NA</td><td>13.60</td><td>0.157</td><td> 100.000</td></tr>\n",
              "\t<tr><td>Lion                </td><td>Panthera     </td><td>carni  </td><td>Carnivora     </td><td>vu          </td><td>13.5</td><td> NA</td><td>       NA</td><td>10.50</td><td>   NA</td><td> 161.499</td></tr>\n",
              "\t<tr><td>Caspian seal        </td><td>Phoca        </td><td>carni  </td><td>Carnivora     </td><td>vu          </td><td> 3.5</td><td>0.4</td><td>       NA</td><td>20.50</td><td>   NA</td><td>  86.000</td></tr>\n",
              "\t<tr><td>Pilot whale         </td><td>Globicephalus</td><td>carni  </td><td>Cetacea       </td><td>cd          </td><td> 2.7</td><td>0.1</td><td>       NA</td><td>21.35</td><td>   NA</td><td> 800.000</td></tr>\n",
              "\t<tr><td>Common porpoise     </td><td>Phocoena     </td><td>carni  </td><td>Cetacea       </td><td>vu          </td><td> 5.6</td><td> NA</td><td>       NA</td><td>18.45</td><td>   NA</td><td>  53.180</td></tr>\n",
              "\t<tr><td>Bottle-nosed dolphin</td><td>Tursiops     </td><td>carni  </td><td>Cetacea       </td><td>NA          </td><td> 5.2</td><td> NA</td><td>       NA</td><td>18.80</td><td>   NA</td><td> 173.330</td></tr>\n",
              "\t<tr><td>Giant armadillo     </td><td>Priodontes   </td><td>insecti</td><td>Cingulata     </td><td>en          </td><td>18.1</td><td>6.1</td><td>       NA</td><td> 5.90</td><td>0.081</td><td>  60.000</td></tr>\n",
              "\t<tr><td>Horse               </td><td>Equus        </td><td>herbi  </td><td>Perissodactyla</td><td>domesticated</td><td> 2.9</td><td>0.6</td><td>1.0000000</td><td>21.10</td><td>0.655</td><td> 521.000</td></tr>\n",
              "\t<tr><td>Donkey              </td><td>Equus        </td><td>herbi  </td><td>Perissodactyla</td><td>domesticated</td><td> 3.1</td><td>0.4</td><td>       NA</td><td>20.90</td><td>0.419</td><td> 187.000</td></tr>\n",
              "\t<tr><td>Brazilian tapir     </td><td>Tapirus      </td><td>herbi  </td><td>Perissodactyla</td><td>vu          </td><td> 4.4</td><td>1.0</td><td>0.9000000</td><td>19.60</td><td>0.169</td><td> 207.501</td></tr>\n",
              "\t<tr><td>Human               </td><td>Homo         </td><td>omni   </td><td>Primates      </td><td>NA          </td><td> 8.0</td><td>1.9</td><td>1.5000000</td><td>16.00</td><td>1.320</td><td>  62.000</td></tr>\n",
              "\t<tr><td>Chimpanzee          </td><td>Pan          </td><td>omni   </td><td>Primates      </td><td>NA          </td><td> 9.7</td><td>1.4</td><td>1.4166667</td><td>14.30</td><td>0.440</td><td>  52.200</td></tr>\n",
              "\t<tr><td>Asian elephant      </td><td>Elephas      </td><td>herbi  </td><td>Proboscidea   </td><td>en          </td><td> 3.9</td><td> NA</td><td>       NA</td><td>20.10</td><td>4.603</td><td>2547.000</td></tr>\n",
              "\t<tr><td>African elephant    </td><td>Loxodonta    </td><td>herbi  </td><td>Proboscidea   </td><td>vu          </td><td> 3.3</td><td> NA</td><td>       NA</td><td>20.70</td><td>5.712</td><td>6654.000</td></tr>\n",
              "</tbody>\n",
              "</table>\n"
            ],
            "text/markdown": "\nA tibble: 22 × 11\n\n| name &lt;chr&gt; | genus &lt;chr&gt; | vore &lt;chr&gt; | order &lt;chr&gt; | conservation &lt;chr&gt; | sleep_total &lt;dbl&gt; | sleep_rem &lt;dbl&gt; | sleep_cycle &lt;dbl&gt; | awake &lt;dbl&gt; | brainwt &lt;dbl&gt; | bodywt &lt;dbl&gt; |\n|---|---|---|---|---|---|---|---|---|---|---|\n| Cow                  | Bos           | herbi   | Artiodactyla   | domesticated |  4.0 | 0.7 | 0.6666667 | 20.00 | 0.423 |  600.000 |\n| Goat                 | Capri         | herbi   | Artiodactyla   | lc           |  5.3 | 0.6 |        NA | 18.70 | 0.115 |   33.500 |\n| Giraffe              | Giraffa       | herbi   | Artiodactyla   | cd           |  1.9 | 0.4 |        NA | 22.10 |    NA |  899.995 |\n| Sheep                | Ovis          | herbi   | Artiodactyla   | domesticated |  3.8 | 0.6 |        NA | 20.20 | 0.175 |   55.500 |\n| Pig                  | Sus           | omni    | Artiodactyla   | domesticated |  9.1 | 2.4 | 0.5000000 | 14.90 | 0.180 |   86.250 |\n| Cheetah              | Acinonyx      | carni   | Carnivora      | lc           | 12.1 |  NA |        NA | 11.90 |    NA |   50.000 |\n| Gray seal            | Haliochoerus  | carni   | Carnivora      | lc           |  6.2 | 1.5 |        NA | 17.80 | 0.325 |   85.000 |\n| Tiger                | Panthera      | carni   | Carnivora      | en           | 15.8 |  NA |        NA |  8.20 |    NA |  162.564 |\n| Jaguar               | Panthera      | carni   | Carnivora      | nt           | 10.4 |  NA |        NA | 13.60 | 0.157 |  100.000 |\n| Lion                 | Panthera      | carni   | Carnivora      | vu           | 13.5 |  NA |        NA | 10.50 |    NA |  161.499 |\n| Caspian seal         | Phoca         | carni   | Carnivora      | vu           |  3.5 | 0.4 |        NA | 20.50 |    NA |   86.000 |\n| Pilot whale          | Globicephalus | carni   | Cetacea        | cd           |  2.7 | 0.1 |        NA | 21.35 |    NA |  800.000 |\n| Common porpoise      | Phocoena      | carni   | Cetacea        | vu           |  5.6 |  NA |        NA | 18.45 |    NA |   53.180 |\n| Bottle-nosed dolphin | Tursiops      | carni   | Cetacea        | NA           |  5.2 |  NA |        NA | 18.80 |    NA |  173.330 |\n| Giant armadillo      | Priodontes    | insecti | Cingulata      | en           | 18.1 | 6.1 |        NA |  5.90 | 0.081 |   60.000 |\n| Horse                | Equus         | herbi   | Perissodactyla | domesticated |  2.9 | 0.6 | 1.0000000 | 21.10 | 0.655 |  521.000 |\n| Donkey               | Equus         | herbi   | Perissodactyla | domesticated |  3.1 | 0.4 |        NA | 20.90 | 0.419 |  187.000 |\n| Brazilian tapir      | Tapirus       | herbi   | Perissodactyla | vu           |  4.4 | 1.0 | 0.9000000 | 19.60 | 0.169 |  207.501 |\n| Human                | Homo          | omni    | Primates       | NA           |  8.0 | 1.9 | 1.5000000 | 16.00 | 1.320 |   62.000 |\n| Chimpanzee           | Pan           | omni    | Primates       | NA           |  9.7 | 1.4 | 1.4166667 | 14.30 | 0.440 |   52.200 |\n| Asian elephant       | Elephas       | herbi   | Proboscidea    | en           |  3.9 |  NA |        NA | 20.10 | 4.603 | 2547.000 |\n| African elephant     | Loxodonta     | herbi   | Proboscidea    | vu           |  3.3 |  NA |        NA | 20.70 | 5.712 | 6654.000 |\n\n",
            "text/latex": "A tibble: 22 × 11\n\\begin{tabular}{lllllllllll}\n name & genus & vore & order & conservation & sleep\\_total & sleep\\_rem & sleep\\_cycle & awake & brainwt & bodywt\\\\\n <chr> & <chr> & <chr> & <chr> & <chr> & <dbl> & <dbl> & <dbl> & <dbl> & <dbl> & <dbl>\\\\\n\\hline\n\t Cow                  & Bos           & herbi   & Artiodactyla   & domesticated &  4.0 & 0.7 & 0.6666667 & 20.00 & 0.423 &  600.000\\\\\n\t Goat                 & Capri         & herbi   & Artiodactyla   & lc           &  5.3 & 0.6 &        NA & 18.70 & 0.115 &   33.500\\\\\n\t Giraffe              & Giraffa       & herbi   & Artiodactyla   & cd           &  1.9 & 0.4 &        NA & 22.10 &    NA &  899.995\\\\\n\t Sheep                & Ovis          & herbi   & Artiodactyla   & domesticated &  3.8 & 0.6 &        NA & 20.20 & 0.175 &   55.500\\\\\n\t Pig                  & Sus           & omni    & Artiodactyla   & domesticated &  9.1 & 2.4 & 0.5000000 & 14.90 & 0.180 &   86.250\\\\\n\t Cheetah              & Acinonyx      & carni   & Carnivora      & lc           & 12.1 &  NA &        NA & 11.90 &    NA &   50.000\\\\\n\t Gray seal            & Haliochoerus  & carni   & Carnivora      & lc           &  6.2 & 1.5 &        NA & 17.80 & 0.325 &   85.000\\\\\n\t Tiger                & Panthera      & carni   & Carnivora      & en           & 15.8 &  NA &        NA &  8.20 &    NA &  162.564\\\\\n\t Jaguar               & Panthera      & carni   & Carnivora      & nt           & 10.4 &  NA &        NA & 13.60 & 0.157 &  100.000\\\\\n\t Lion                 & Panthera      & carni   & Carnivora      & vu           & 13.5 &  NA &        NA & 10.50 &    NA &  161.499\\\\\n\t Caspian seal         & Phoca         & carni   & Carnivora      & vu           &  3.5 & 0.4 &        NA & 20.50 &    NA &   86.000\\\\\n\t Pilot whale          & Globicephalus & carni   & Cetacea        & cd           &  2.7 & 0.1 &        NA & 21.35 &    NA &  800.000\\\\\n\t Common porpoise      & Phocoena      & carni   & Cetacea        & vu           &  5.6 &  NA &        NA & 18.45 &    NA &   53.180\\\\\n\t Bottle-nosed dolphin & Tursiops      & carni   & Cetacea        & NA           &  5.2 &  NA &        NA & 18.80 &    NA &  173.330\\\\\n\t Giant armadillo      & Priodontes    & insecti & Cingulata      & en           & 18.1 & 6.1 &        NA &  5.90 & 0.081 &   60.000\\\\\n\t Horse                & Equus         & herbi   & Perissodactyla & domesticated &  2.9 & 0.6 & 1.0000000 & 21.10 & 0.655 &  521.000\\\\\n\t Donkey               & Equus         & herbi   & Perissodactyla & domesticated &  3.1 & 0.4 &        NA & 20.90 & 0.419 &  187.000\\\\\n\t Brazilian tapir      & Tapirus       & herbi   & Perissodactyla & vu           &  4.4 & 1.0 & 0.9000000 & 19.60 & 0.169 &  207.501\\\\\n\t Human                & Homo          & omni    & Primates       & NA           &  8.0 & 1.9 & 1.5000000 & 16.00 & 1.320 &   62.000\\\\\n\t Chimpanzee           & Pan           & omni    & Primates       & NA           &  9.7 & 1.4 & 1.4166667 & 14.30 & 0.440 &   52.200\\\\\n\t Asian elephant       & Elephas       & herbi   & Proboscidea    & en           &  3.9 &  NA &        NA & 20.10 & 4.603 & 2547.000\\\\\n\t African elephant     & Loxodonta     & herbi   & Proboscidea    & vu           &  3.3 &  NA &        NA & 20.70 & 5.712 & 6654.000\\\\\n\\end{tabular}\n",
            "text/plain": [
              "   name                 genus         vore    order          conservation\n",
              "1  Cow                  Bos           herbi   Artiodactyla   domesticated\n",
              "2  Goat                 Capri         herbi   Artiodactyla   lc          \n",
              "3  Giraffe              Giraffa       herbi   Artiodactyla   cd          \n",
              "4  Sheep                Ovis          herbi   Artiodactyla   domesticated\n",
              "5  Pig                  Sus           omni    Artiodactyla   domesticated\n",
              "6  Cheetah              Acinonyx      carni   Carnivora      lc          \n",
              "7  Gray seal            Haliochoerus  carni   Carnivora      lc          \n",
              "8  Tiger                Panthera      carni   Carnivora      en          \n",
              "9  Jaguar               Panthera      carni   Carnivora      nt          \n",
              "10 Lion                 Panthera      carni   Carnivora      vu          \n",
              "11 Caspian seal         Phoca         carni   Carnivora      vu          \n",
              "12 Pilot whale          Globicephalus carni   Cetacea        cd          \n",
              "13 Common porpoise      Phocoena      carni   Cetacea        vu          \n",
              "14 Bottle-nosed dolphin Tursiops      carni   Cetacea        NA          \n",
              "15 Giant armadillo      Priodontes    insecti Cingulata      en          \n",
              "16 Horse                Equus         herbi   Perissodactyla domesticated\n",
              "17 Donkey               Equus         herbi   Perissodactyla domesticated\n",
              "18 Brazilian tapir      Tapirus       herbi   Perissodactyla vu          \n",
              "19 Human                Homo          omni    Primates       NA          \n",
              "20 Chimpanzee           Pan           omni    Primates       NA          \n",
              "21 Asian elephant       Elephas       herbi   Proboscidea    en          \n",
              "22 African elephant     Loxodonta     herbi   Proboscidea    vu          \n",
              "   sleep_total sleep_rem sleep_cycle awake brainwt bodywt  \n",
              "1   4.0        0.7       0.6666667   20.00 0.423    600.000\n",
              "2   5.3        0.6              NA   18.70 0.115     33.500\n",
              "3   1.9        0.4              NA   22.10    NA    899.995\n",
              "4   3.8        0.6              NA   20.20 0.175     55.500\n",
              "5   9.1        2.4       0.5000000   14.90 0.180     86.250\n",
              "6  12.1         NA              NA   11.90    NA     50.000\n",
              "7   6.2        1.5              NA   17.80 0.325     85.000\n",
              "8  15.8         NA              NA    8.20    NA    162.564\n",
              "9  10.4         NA              NA   13.60 0.157    100.000\n",
              "10 13.5         NA              NA   10.50    NA    161.499\n",
              "11  3.5        0.4              NA   20.50    NA     86.000\n",
              "12  2.7        0.1              NA   21.35    NA    800.000\n",
              "13  5.6         NA              NA   18.45    NA     53.180\n",
              "14  5.2         NA              NA   18.80    NA    173.330\n",
              "15 18.1        6.1              NA    5.90 0.081     60.000\n",
              "16  2.9        0.6       1.0000000   21.10 0.655    521.000\n",
              "17  3.1        0.4              NA   20.90 0.419    187.000\n",
              "18  4.4        1.0       0.9000000   19.60 0.169    207.501\n",
              "19  8.0        1.9       1.5000000   16.00 1.320     62.000\n",
              "20  9.7        1.4       1.4166667   14.30 0.440     52.200\n",
              "21  3.9         NA              NA   20.10 4.603   2547.000\n",
              "22  3.3         NA              NA   20.70 5.712   6654.000"
            ]
          },
          "metadata": {}
        },
        {
          "output_type": "display_data",
          "data": {
            "text/plain": [
              "plot without title"
            ],
            "image/png": "[encoded data removed]"
          },
          "metadata": {
            "image/png": {
              "width": 420,
              "height": 420
            }
          }
        }
      ]
    },
    {
      "cell_type": "markdown",
      "source": [
        "## 3. Clean and Analyze Data Using R (4 pts)\n",
        "\n",
        "In the cells below use R to perform the following data cleaning steps on this file:\n",
        "https://raw.githubusercontent.com/nmagee/ds1002/main/data/social-media-users.csv\n",
        "\n",
        "1. Remove any duplicate rows.\n",
        "2. Remove any records where `last_login` or `birthdate` are empty.\n",
        "3. Display only the records with the 10 highest `follower` counts.\n",
        "4. Determine counts of users when grouped by continent."
      ],
      "metadata": {
        "id": "-2ZaFcCCv3o8"
      }
    },
    {
      "cell_type": "code",
      "source": [
        "df <- read.csv(\"https://raw.githubusercontent.com/nmagee/ds1002/main/data/social-media-users.csv\")\n",
        "\n",
        "df2 <- df[!duplicated(df), ]"
      ],
      "metadata": {
        "id": "V4nBsdVsyauQ"
      },
      "execution_count": 67,
      "outputs": []
    },
    {
      "cell_type": "code",
      "source": [
        "df3 <- df2[!is.na(df2$last_login),]\n",
        "df4 <- df3[!is.na(df2$birthdate),]"
      ],
      "metadata": {
        "id": "LwXD1sNulIT3"
      },
      "execution_count": 68,
      "outputs": []
    },
    {
      "cell_type": "code",
      "source": [
        "head(df4[order(df4$followers, decreasing = TRUE), ], n=10)"
      ],
      "metadata": {
        "id": "7qa100btlI4Z",
        "colab": {
          "base_uri": "https://localhost:8080/",
          "height": 412
        },
        "outputId": "4d8b1d18-aca2-43ec-e88f-371fbfbf1a51"
      },
      "execution_count": 69,
      "outputs": [
        {
          "output_type": "display_data",
          "data": {
            "text/html": [
              "<table class=\"dataframe\">\n",
              "<caption>A data.frame: 10 × 8</caption>\n",
              "<thead>\n",
              "\t<tr><th></th><th scope=col>username</th><th scope=col>full_name</th><th scope=col>birthdate</th><th scope=col>email</th><th scope=col>continent</th><th scope=col>followers</th><th scope=col>last_login</th><th scope=col>interests</th></tr>\n",
              "\t<tr><th></th><th scope=col>&lt;chr&gt;</th><th scope=col>&lt;chr&gt;</th><th scope=col>&lt;chr&gt;</th><th scope=col>&lt;chr&gt;</th><th scope=col>&lt;chr&gt;</th><th scope=col>&lt;int&gt;</th><th scope=col>&lt;chr&gt;</th><th scope=col>&lt;chr&gt;</th></tr>\n",
              "</thead>\n",
              "<tbody>\n",
              "\t<tr><th scope=row>721</th><td>lleckeyb6    </td><td>Lynne Leckey    </td><td>4/19/1998 </td><td>lleckeyb6@tripadvisor.com         </td><td>SA</td><td>99977</td><td>3/14/2021 </td><td>sports</td></tr>\n",
              "\t<tr><th scope=row>681</th><td>spharoaha2   </td><td>Staci Pharoah   </td><td>9/2/1985  </td><td>spharoaha2@sfgate.com             </td><td>NA</td><td>99905</td><td>10/26/2023</td><td>sports</td></tr>\n",
              "\t<tr><th scope=row>1270</th><td>dpagettqf    </td><td>Des Pagett      </td><td>4/1/1992  </td><td>dpagettqf@360.cn                  </td><td>NA</td><td>99854</td><td>          </td><td>music </td></tr>\n",
              "\t<tr><th scope=row>1050</th><td>cbraderkb    </td><td>Cody Brader     </td><td>          </td><td>cbraderkb@lulu.com                </td><td>AF</td><td>99747</td><td>6/19/2021 </td><td>music </td></tr>\n",
              "\t<tr><th scope=row>818</th><td>djagerdv     </td><td>Deeyn Jager     </td><td>          </td><td>djagerdv@posterous.com            </td><td>AF</td><td>99731</td><td>4/7/2022  </td><td>travel</td></tr>\n",
              "\t<tr><th scope=row>821</th><td>cduftondy    </td><td>Celisse Dufton  </td><td>8/24/1995 </td><td>cduftondy@ox.ac.uk                </td><td>OC</td><td>99707</td><td>9/26/2021 </td><td>sports</td></tr>\n",
              "\t<tr><th scope=row>578</th><td>dbartalin77  </td><td>Desiree Bartalin</td><td>8/23/1993 </td><td>dbartalin77@usda.gov              </td><td>AF</td><td>99618</td><td>5/30/2022 </td><td>music </td></tr>\n",
              "\t<tr><th scope=row>1136</th><td>grivardmp    </td><td>Gwen Rivard     </td><td>9/12/1982 </td><td>grivardmp@google.com.hk           </td><td>OC</td><td>99526</td><td>4/4/2020  </td><td>music </td></tr>\n",
              "\t<tr><th scope=row>659</th><td>mraggitt9g   </td><td>Morgan Raggitt  </td><td>11/16/1992</td><td>mraggitt9g@home.pl                </td><td>NA</td><td>99508</td><td>11/12/2021</td><td>music </td></tr>\n",
              "\t<tr><th scope=row>134</th><td>vshallcrass3p</td><td>Vally Shallcrass</td><td>9/26/2002 </td><td>vshallcrass3p@pagesperso-orange.fr</td><td>NA</td><td>99419</td><td>          </td><td>music </td></tr>\n",
              "</tbody>\n",
              "</table>\n"
            ],
            "text/markdown": "\nA data.frame: 10 × 8\n\n| <!--/--> | username &lt;chr&gt; | full_name &lt;chr&gt; | birthdate &lt;chr&gt; | email &lt;chr&gt; | continent &lt;chr&gt; | followers &lt;int&gt; | last_login &lt;chr&gt; | interests &lt;chr&gt; |\n|---|---|---|---|---|---|---|---|---|\n| 721 | lleckeyb6     | Lynne Leckey     | 4/19/1998  | lleckeyb6@tripadvisor.com          | SA | 99977 | 3/14/2021  | sports |\n| 681 | spharoaha2    | Staci Pharoah    | 9/2/1985   | spharoaha2@sfgate.com              | NA | 99905 | 10/26/2023 | sports |\n| 1270 | dpagettqf     | Des Pagett       | 4/1/1992   | dpagettqf@360.cn                   | NA | 99854 | <!----> | music  |\n| 1050 | cbraderkb     | Cody Brader      | <!----> | cbraderkb@lulu.com                 | AF | 99747 | 6/19/2021  | music  |\n| 818 | djagerdv      | Deeyn Jager      | <!----> | djagerdv@posterous.com             | AF | 99731 | 4/7/2022   | travel |\n| 821 | cduftondy     | Celisse Dufton   | 8/24/1995  | cduftondy@ox.ac.uk                 | OC | 99707 | 9/26/2021  | sports |\n| 578 | dbartalin77   | Desiree Bartalin | 8/23/1993  | dbartalin77@usda.gov               | AF | 99618 | 5/30/2022  | music  |\n| 1136 | grivardmp     | Gwen Rivard      | 9/12/1982  | grivardmp@google.com.hk            | OC | 99526 | 4/4/2020   | music  |\n| 659 | mraggitt9g    | Morgan Raggitt   | 11/16/1992 | mraggitt9g@home.pl                 | NA | 99508 | 11/12/2021 | music  |\n| 134 | vshallcrass3p | Vally Shallcrass | 9/26/2002  | vshallcrass3p@pagesperso-orange.fr | NA | 99419 | <!----> | music  |\n\n",
            "text/latex": "A data.frame: 10 × 8\n\\begin{tabular}{r|llllllll}\n  & username & full\\_name & birthdate & email & continent & followers & last\\_login & interests\\\\\n  & <chr> & <chr> & <chr> & <chr> & <chr> & <int> & <chr> & <chr>\\\\\n\\hline\n\t721 & lleckeyb6     & Lynne Leckey     & 4/19/1998  & lleckeyb6@tripadvisor.com          & SA & 99977 & 3/14/2021  & sports\\\\\n\t681 & spharoaha2    & Staci Pharoah    & 9/2/1985   & spharoaha2@sfgate.com              & NA & 99905 & 10/26/2023 & sports\\\\\n\t1270 & dpagettqf     & Des Pagett       & 4/1/1992   & dpagettqf@360.cn                   & NA & 99854 &            & music \\\\\n\t1050 & cbraderkb     & Cody Brader      &            & cbraderkb@lulu.com                 & AF & 99747 & 6/19/2021  & music \\\\\n\t818 & djagerdv      & Deeyn Jager      &            & djagerdv@posterous.com             & AF & 99731 & 4/7/2022   & travel\\\\\n\t821 & cduftondy     & Celisse Dufton   & 8/24/1995  & cduftondy@ox.ac.uk                 & OC & 99707 & 9/26/2021  & sports\\\\\n\t578 & dbartalin77   & Desiree Bartalin & 8/23/1993  & dbartalin77@usda.gov               & AF & 99618 & 5/30/2022  & music \\\\\n\t1136 & grivardmp     & Gwen Rivard      & 9/12/1982  & grivardmp@google.com.hk            & OC & 99526 & 4/4/2020   & music \\\\\n\t659 & mraggitt9g    & Morgan Raggitt   & 11/16/1992 & mraggitt9g@home.pl                 & NA & 99508 & 11/12/2021 & music \\\\\n\t134 & vshallcrass3p & Vally Shallcrass & 9/26/2002  & vshallcrass3p@pagesperso-orange.fr & NA & 99419 &            & music \\\\\n\\end{tabular}\n",
            "text/plain": [
              "     username      full_name        birthdate \n",
              "721  lleckeyb6     Lynne Leckey     4/19/1998 \n",
              "681  spharoaha2    Staci Pharoah    9/2/1985  \n",
              "1270 dpagettqf     Des Pagett       4/1/1992  \n",
              "1050 cbraderkb     Cody Brader                \n",
              "818  djagerdv      Deeyn Jager                \n",
              "821  cduftondy     Celisse Dufton   8/24/1995 \n",
              "578  dbartalin77   Desiree Bartalin 8/23/1993 \n",
              "1136 grivardmp     Gwen Rivard      9/12/1982 \n",
              "659  mraggitt9g    Morgan Raggitt   11/16/1992\n",
              "134  vshallcrass3p Vally Shallcrass 9/26/2002 \n",
              "     email                              continent followers last_login\n",
              "721  lleckeyb6@tripadvisor.com          SA        99977     3/14/2021 \n",
              "681  spharoaha2@sfgate.com              NA        99905     10/26/2023\n",
              "1270 dpagettqf@360.cn                   NA        99854               \n",
              "1050 cbraderkb@lulu.com                 AF        99747     6/19/2021 \n",
              "818  djagerdv@posterous.com             AF        99731     4/7/2022  \n",
              "821  cduftondy@ox.ac.uk                 OC        99707     9/26/2021 \n",
              "578  dbartalin77@usda.gov               AF        99618     5/30/2022 \n",
              "1136 grivardmp@google.com.hk            OC        99526     4/4/2020  \n",
              "659  mraggitt9g@home.pl                 NA        99508     11/12/2021\n",
              "134  vshallcrass3p@pagesperso-orange.fr NA        99419               \n",
              "     interests\n",
              "721  sports   \n",
              "681  sports   \n",
              "1270 music    \n",
              "1050 music    \n",
              "818  travel   \n",
              "821  sports   \n",
              "578  music    \n",
              "1136 music    \n",
              "659  music    \n",
              "134  music    "
            ]
          },
          "metadata": {}
        }
      ]
    },
    {
      "cell_type": "code",
      "source": [
        "count(df4[df4$continent == \"SA\",])\n",
        "count(df4[df4$continent == \"NA\",])\n",
        "count(df4[df4$continent == \"AF\",])\n",
        "count(df4[df4$continent == \"OC\",])\n",
        "count(df4[df4$continent == \"EU\",])\n",
        "count(df4[df4$continent == \"AS\",])"
      ],
      "metadata": {
        "id": "MjrZisnxlJUa",
        "colab": {
          "base_uri": "https://localhost:8080/",
          "height": 900
        },
        "outputId": "26cce77f-12bf-46f8-8ff3-c325a97b079f"
      },
      "execution_count": 70,
      "outputs": [
        {
          "output_type": "display_data",
          "data": {
            "text/html": [
              "<table class=\"dataframe\">\n",
              "<caption>A data.frame: 1 × 1</caption>\n",
              "<thead>\n",
              "\t<tr><th scope=col>n</th></tr>\n",
              "\t<tr><th scope=col>&lt;int&gt;</th></tr>\n",
              "</thead>\n",
              "<tbody>\n",
              "\t<tr><td>439</td></tr>\n",
              "</tbody>\n",
              "</table>\n"
            ],
            "text/markdown": "\nA data.frame: 1 × 1\n\n| n &lt;int&gt; |\n|---|\n| 439 |\n\n",
            "text/latex": "A data.frame: 1 × 1\n\\begin{tabular}{l}\n n\\\\\n <int>\\\\\n\\hline\n\t 439\\\\\n\\end{tabular}\n",
            "text/plain": [
              "  n  \n",
              "1 439"
            ]
          },
          "metadata": {}
        },
        {
          "output_type": "display_data",
          "data": {
            "text/html": [
              "<table class=\"dataframe\">\n",
              "<caption>A data.frame: 1 × 1</caption>\n",
              "<thead>\n",
              "\t<tr><th scope=col>n</th></tr>\n",
              "\t<tr><th scope=col>&lt;int&gt;</th></tr>\n",
              "</thead>\n",
              "<tbody>\n",
              "\t<tr><td>347</td></tr>\n",
              "</tbody>\n",
              "</table>\n"
            ],
            "text/markdown": "\nA data.frame: 1 × 1\n\n| n &lt;int&gt; |\n|---|\n| 347 |\n\n",
            "text/latex": "A data.frame: 1 × 1\n\\begin{tabular}{l}\n n\\\\\n <int>\\\\\n\\hline\n\t 347\\\\\n\\end{tabular}\n",
            "text/plain": [
              "  n  \n",
              "1 347"
            ]
          },
          "metadata": {}
        },
        {
          "output_type": "display_data",
          "data": {
            "text/html": [
              "<table class=\"dataframe\">\n",
              "<caption>A data.frame: 1 × 1</caption>\n",
              "<thead>\n",
              "\t<tr><th scope=col>n</th></tr>\n",
              "\t<tr><th scope=col>&lt;int&gt;</th></tr>\n",
              "</thead>\n",
              "<tbody>\n",
              "\t<tr><td>450</td></tr>\n",
              "</tbody>\n",
              "</table>\n"
            ],
            "text/markdown": "\nA data.frame: 1 × 1\n\n| n &lt;int&gt; |\n|---|\n| 450 |\n\n",
            "text/latex": "A data.frame: 1 × 1\n\\begin{tabular}{l}\n n\\\\\n <int>\\\\\n\\hline\n\t 450\\\\\n\\end{tabular}\n",
            "text/plain": [
              "  n  \n",
              "1 450"
            ]
          },
          "metadata": {}
        },
        {
          "output_type": "display_data",
          "data": {
            "text/html": [
              "<table class=\"dataframe\">\n",
              "<caption>A data.frame: 1 × 1</caption>\n",
              "<thead>\n",
              "\t<tr><th scope=col>n</th></tr>\n",
              "\t<tr><th scope=col>&lt;int&gt;</th></tr>\n",
              "</thead>\n",
              "<tbody>\n",
              "\t<tr><td>495</td></tr>\n",
              "</tbody>\n",
              "</table>\n"
            ],
            "text/markdown": "\nA data.frame: 1 × 1\n\n| n &lt;int&gt; |\n|---|\n| 495 |\n\n",
            "text/latex": "A data.frame: 1 × 1\n\\begin{tabular}{l}\n n\\\\\n <int>\\\\\n\\hline\n\t 495\\\\\n\\end{tabular}\n",
            "text/plain": [
              "  n  \n",
              "1 495"
            ]
          },
          "metadata": {}
        },
        {
          "output_type": "display_data",
          "data": {
            "text/html": [
              "<table class=\"dataframe\">\n",
              "<caption>A data.frame: 1 × 1</caption>\n",
              "<thead>\n",
              "\t<tr><th scope=col>n</th></tr>\n",
              "\t<tr><th scope=col>&lt;int&gt;</th></tr>\n",
              "</thead>\n",
              "<tbody>\n",
              "\t<tr><td>474</td></tr>\n",
              "</tbody>\n",
              "</table>\n"
            ],
            "text/markdown": "\nA data.frame: 1 × 1\n\n| n &lt;int&gt; |\n|---|\n| 474 |\n\n",
            "text/latex": "A data.frame: 1 × 1\n\\begin{tabular}{l}\n n\\\\\n <int>\\\\\n\\hline\n\t 474\\\\\n\\end{tabular}\n",
            "text/plain": [
              "  n  \n",
              "1 474"
            ]
          },
          "metadata": {}
        },
        {
          "output_type": "display_data",
          "data": {
            "text/html": [
              "<table class=\"dataframe\">\n",
              "<caption>A data.frame: 1 × 1</caption>\n",
              "<thead>\n",
              "\t<tr><th scope=col>n</th></tr>\n",
              "\t<tr><th scope=col>&lt;int&gt;</th></tr>\n",
              "</thead>\n",
              "<tbody>\n",
              "\t<tr><td>529</td></tr>\n",
              "</tbody>\n",
              "</table>\n"
            ],
            "text/markdown": "\nA data.frame: 1 × 1\n\n| n &lt;int&gt; |\n|---|\n| 529 |\n\n",
            "text/latex": "A data.frame: 1 × 1\n\\begin{tabular}{l}\n n\\\\\n <int>\\\\\n\\hline\n\t 529\\\\\n\\end{tabular}\n",
            "text/plain": [
              "  n  \n",
              "1 529"
            ]
          },
          "metadata": {}
        }
      ]
    }
  ]
}
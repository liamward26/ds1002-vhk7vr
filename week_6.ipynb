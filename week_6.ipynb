{
  "nbformat": 4,
  "nbformat_minor": 0,
  "metadata": {
    "colab": {
      "provenance": [],
      "include_colab_link": true
    },
    "kernelspec": {
      "name": "python3",
      "display_name": "Python 3"
    },
    "language_info": {
      "name": "python"
    }
  },
  "cells": [
    {
      "cell_type": "markdown",
      "metadata": {
        "id": "view-in-github",
        "colab_type": "text"
      },
      "source": [
        "<a href=\"https://colab.research.google.com/github/liamward26/ds1002-vhk7vr/blob/main/week_6.ipynb\" target=\"_parent\"><img src=\"https://colab.research.google.com/assets/colab-badge.svg\" alt=\"Open In Colab\"/></a>"
      ]
    },
    {
      "cell_type": "markdown",
      "source": [
        "# Homework - Week 6\n",
        "\n",
        "Complete the following blocks as specified in the directions. Run each cell to return the desired output. Save your notebook back to your GitHub repository and submit the GitHub URL for your notebook for review."
      ],
      "metadata": {
        "id": "xJ6ZWHKXW4qY"
      }
    },
    {
      "cell_type": "markdown",
      "source": [
        "# Pandas\n",
        "\n",
        "## 1. Fetch and Load Data\n",
        "In class we created a DataFrame using the `read_csv` method. Go to https://catalog.data.gov/dataset/electric-vehicle-population-data and download the CSV format of the \"Electric Vehicle Population Data\" dataset. Then upload it to Google Colab.\n",
        "\n",
        "Load that data into a Pandas DataFrame and display the first 20 rows. Show your work."
      ],
      "metadata": {
        "id": "2xOjrZ-Rg28_"
      }
    },
    {
      "cell_type": "code",
      "source": [
        "# Set up pandas and populate the dataframe above using the raw data. Then continue to work with the dataframe in the questions below.\n",
        "import numpy as np\n",
        "import pandas as pd\n",
        "EVPD = pd.read_csv(\"Electric_Vehicle_Population_Data.csv\")"
      ],
      "metadata": {
        "id": "--XDmwVsbMC0"
      },
      "execution_count": 25,
      "outputs": []
    },
    {
      "cell_type": "code",
      "source": [
        "from pandas.core import describe\n",
        "# Format a command that how many rows and columns are in this dataset\n",
        "\n",
        "print(len(EVPD),len(EVPD.columns))\n",
        "\n"
      ],
      "metadata": {
        "id": "BOEWyifRiA-W",
        "colab": {
          "base_uri": "https://localhost:8080/"
        },
        "outputId": "e83f066a-fb46-4027-f8a8-7789dbc25e04"
      },
      "execution_count": 80,
      "outputs": [
        {
          "output_type": "stream",
          "name": "stdout",
          "text": [
            "150482 17\n"
          ]
        }
      ]
    },
    {
      "cell_type": "code",
      "source": [
        "# Format a command that displays every other row of records 1000 through 1999, and the columns \"City\", \"State\", \"Model Year\", and \"Make\".\n",
        "print(EVPD[1000:1999:2][[\"City\",\"State\",\"Model Year\",\"Make\"]])"
      ],
      "metadata": {
        "id": "RxqOYSNXiJ5U",
        "colab": {
          "base_uri": "https://localhost:8080/"
        },
        "outputId": "43676dc6-1c5b-4d7f-eb5d-aaebf09c8126"
      },
      "execution_count": 54,
      "outputs": [
        {
          "output_type": "stream",
          "name": "stdout",
          "text": [
            "             City State  Model Year      Make\n",
            "1000  Federal Way    WA        2022       KIA\n",
            "1002    Arlington    WA        2021      JEEP\n",
            "1004       Burien    WA        2018      AUDI\n",
            "1006         Kent    WA        2018     TESLA\n",
            "1008    Newcastle    WA        2022     TESLA\n",
            "...           ...   ...         ...       ...\n",
            "1990      Bothell    WA        2023       KIA\n",
            "1992      Poulsbo    WA        2015     TESLA\n",
            "1994     Kirkland    WA        2018  CHRYSLER\n",
            "1996     Bellevue    WA        2014     TESLA\n",
            "1998         Kent    WA        2023   HYUNDAI\n",
            "\n",
            "[500 rows x 4 columns]\n"
          ]
        }
      ]
    },
    {
      "cell_type": "markdown",
      "source": [
        "# 2. Cleaning/Imputing Data\n",
        "\n",
        "In class we reviewed methods for removing duplicate rows and handling empty cell values. Download [this data set](https://github.com/nmagee/ds1002/blob/main/data/very-messy-data.csv) and upload into Google Colab.\n",
        "\n",
        "Create another Pandas DataFrame from that data and perform the following steps."
      ],
      "metadata": {
        "id": "ne7qgu7nVtiI"
      }
    },
    {
      "cell_type": "code",
      "source": [
        "# Set up pandas and populate the dataframe above using the raw data. Then continue to work with the dataframe in the questions below.\n",
        "VMD = pd.read_csv(\"very-messy-data.csv\")"
      ],
      "metadata": {
        "id": "sDYMm0QpWKYO"
      },
      "execution_count": 66,
      "outputs": []
    },
    {
      "cell_type": "code",
      "source": [
        "# Write a snippet of code that will display the number of duplicate rows exist in the DF.\n",
        "print(VMD.duplicated().sum())"
      ],
      "metadata": {
        "id": "keh0p_RjWMDy",
        "colab": {
          "base_uri": "https://localhost:8080/"
        },
        "outputId": "dd478145-d816-4807-dd2f-1fe6a38a4745"
      },
      "execution_count": 67,
      "outputs": [
        {
          "output_type": "stream",
          "name": "stdout",
          "text": [
            "316\n"
          ]
        }
      ]
    },
    {
      "cell_type": "code",
      "source": [
        "# Next, remove all duplicate rows using Python.\n",
        "VMD1 = VMD.drop_duplicates()"
      ],
      "metadata": {
        "id": "lJqw97KwWraS"
      },
      "execution_count": 88,
      "outputs": []
    },
    {
      "cell_type": "code",
      "source": [
        "# For the FOUR columns involving sepal and petal length and width, update all NaN\n",
        "# values with the column mean such that NO empty cells remain. This method\n",
        "# is called \"imputation\" because it fills in cells in a statistically less-impactful\n",
        "# way than if they were blank.\n",
        "\n",
        "# Show how you would update those four columns in code\n",
        "VMD2 = VMD1.fillna(VMD1[[\"sepal_length\",\"sepal_width\",\"petal_length\",\"petal_width\"]].mean())"
      ],
      "metadata": {
        "id": "yGbZ4Vy-W2pm"
      },
      "execution_count": 96,
      "outputs": []
    },
    {
      "cell_type": "markdown",
      "source": [
        "# 3. Save to a New CSV\n",
        "\n",
        "Preserve your updated DF to a CSV file by using the method built into Pandas.\n",
        "Name the output file `very-clean-data.csv` and save it to GitHub in the same directory where you will save this homework. We will review both your Colab notebook and the cleaned data file."
      ],
      "metadata": {
        "id": "v1Y4RoeLXZnI"
      }
    },
    {
      "cell_type": "code",
      "source": [
        "VMD2.to_csv(\"very-clean-data.csv\")"
      ],
      "metadata": {
        "id": "JDzWkQ9NwUBA"
      },
      "execution_count": 98,
      "outputs": []
    }
  ]
}